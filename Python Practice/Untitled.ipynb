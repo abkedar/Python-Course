{
 "cells": [
  {
   "cell_type": "code",
   "execution_count": 11,
   "metadata": {},
   "outputs": [],
   "source": [
    "import datetime\n",
    "\n",
    "\"\"\"\n",
    "This scriptss create an empty file.\n",
    "\"\"\"\n",
    "\n",
    "filename = datetime.datetime.now()\n",
    "\n",
    "# create a empty file\n",
    "def create_file():\n",
    "\t\"\"\"This function create an empty file\"\"\"\n",
    "\twith open(filename.strftime(\"%Y-%m-%d-%H-%M\")+\".txt\", \"w\") as file:\n",
    "\t\tfile.write(\"\")"
   ]
  },
  {
   "cell_type": "code",
   "execution_count": 12,
   "metadata": {},
   "outputs": [],
   "source": [
    "create_file()"
   ]
  },
  {
   "cell_type": "code",
   "execution_count": 14,
   "metadata": {},
   "outputs": [],
   "source": [
    "import time\n",
    "lst = []\n",
    "for i in range(5):\n",
    "    lst.append(datetime.datetime.now())\n",
    "    time.sleep(1)"
   ]
  },
  {
   "cell_type": "code",
   "execution_count": 15,
   "metadata": {},
   "outputs": [
    {
     "data": {
      "text/plain": [
       "[datetime.datetime(2018, 1, 10, 17, 30, 31, 976000),\n",
       " datetime.datetime(2018, 1, 10, 17, 30, 32, 981000),\n",
       " datetime.datetime(2018, 1, 10, 17, 30, 33, 981000),\n",
       " datetime.datetime(2018, 1, 10, 17, 30, 34, 981000),\n",
       " datetime.datetime(2018, 1, 10, 17, 30, 35, 981000)]"
      ]
     },
     "execution_count": 15,
     "metadata": {},
     "output_type": "execute_result"
    }
   ],
   "source": [
    "lst"
   ]
  },
  {
   "cell_type": "code",
   "execution_count": 16,
   "metadata": {},
   "outputs": [
    {
     "name": "stdout",
     "output_type": "stream",
     "text": [
      "2018-01-10 17:30:31.976000\n",
      "2018-01-10 17:30:32.981000\n",
      "2018-01-10 17:30:33.981000\n",
      "2018-01-10 17:30:34.981000\n",
      "2018-01-10 17:30:35.981000\n"
     ]
    }
   ],
   "source": [
    "for  i in lst:\n",
    "    print i"
   ]
  },
  {
   "cell_type": "code",
   "execution_count": 17,
   "metadata": {},
   "outputs": [
    {
     "name": "stdout",
     "output_type": "stream",
     "text": [
      "What letter do you want? Enter 'v' for vowels, 'c' for consonants, '1' for any letter:v\n",
      "What letter do you want? Enter 'v' for vowels, 'c' for consonants, '1' for any letter:c\n",
      "What letter do you want? Enter 'v' for vowels, 'c' for consonants, '1' for any letter:v\n"
     ]
    }
   ],
   "source": [
    "import random\n",
    "\n",
    "vowels = \"aeiou\"\n",
    "consonants = \"bcdfghijklmnpqrstvwxyz\"\n",
    "letter = vowels+consonants\n",
    "\n",
    "letter_input_1 = raw_input(\"What letter do you want? Enter 'v' for vowels, 'c' for consonants, '1' for any letter:\")\n",
    "letter_input_2 = raw_input(\"What letter do you want? Enter 'v' for vowels, 'c' for consonants, '1' for any letter:\")\n",
    "letter_input_3 = raw_input(\"What letter do you want? Enter 'v' for vowels, 'c' for consonants, '1' for any letter:\")\n",
    "\n",
    "def plot():\n",
    "    if letter_input_1 == 'v':\n",
    "        l1 = random.choice(vowels)\n",
    "    elif letter_input_1 == 'c':\n",
    "        l1 = random.choice(consonants)"
   ]
  },
  {
   "cell_type": "code",
   "execution_count": 43,
   "metadata": {},
   "outputs": [
    {
     "name": "stdout",
     "output_type": "stream",
     "text": [
      "What letter do you want? Enter 'v' for vowels, 'c' for consonants, '1' for any letter:w\n",
      "What letter do you want? Enter 'v' for vowels, 'c' for consonants, '1' for any letter:e\n",
      "What letter do you want? Enter 'v' for vowels, 'c' for consonants, '1' for any letter:p\n"
     ]
    },
    {
     "ename": "UnboundLocalError",
     "evalue": "local variable 'letter1' referenced before assignment",
     "output_type": "error",
     "traceback": [
      "\u001b[1;31m---------------------------------------------------------------------------\u001b[0m",
      "\u001b[1;31mUnboundLocalError\u001b[0m                         Traceback (most recent call last)",
      "\u001b[1;32m<ipython-input-43-8f0680c2f056>\u001b[0m in \u001b[0;36m<module>\u001b[1;34m()\u001b[0m\n\u001b[0;32m     39\u001b[0m     \u001b[1;32mreturn\u001b[0m \u001b[1;33m(\u001b[0m\u001b[0mname\u001b[0m\u001b[1;33m)\u001b[0m\u001b[1;33m\u001b[0m\u001b[0m\n\u001b[0;32m     40\u001b[0m \u001b[1;33m\u001b[0m\u001b[0m\n\u001b[1;32m---> 41\u001b[1;33m \u001b[1;32mprint\u001b[0m\u001b[1;33m(\u001b[0m\u001b[0mgenerator\u001b[0m\u001b[1;33m(\u001b[0m\u001b[1;33m)\u001b[0m\u001b[1;33m)\u001b[0m\u001b[1;33m\u001b[0m\u001b[0m\n\u001b[0m",
      "\u001b[1;32m<ipython-input-43-8f0680c2f056>\u001b[0m in \u001b[0;36mgenerator\u001b[1;34m()\u001b[0m\n\u001b[0;32m     36\u001b[0m         \u001b[0mletter3\u001b[0m \u001b[1;33m=\u001b[0m \u001b[0mletter_input_3\u001b[0m\u001b[1;33m\u001b[0m\u001b[0m\n\u001b[0;32m     37\u001b[0m \u001b[1;33m\u001b[0m\u001b[0m\n\u001b[1;32m---> 38\u001b[1;33m     \u001b[0mname\u001b[0m \u001b[1;33m=\u001b[0m \u001b[0mletter1\u001b[0m \u001b[1;33m+\u001b[0m \u001b[0mletter2\u001b[0m \u001b[1;33m+\u001b[0m \u001b[0mletter3\u001b[0m\u001b[1;33m\u001b[0m\u001b[0m\n\u001b[0m\u001b[0;32m     39\u001b[0m     \u001b[1;32mreturn\u001b[0m \u001b[1;33m(\u001b[0m\u001b[0mname\u001b[0m\u001b[1;33m)\u001b[0m\u001b[1;33m\u001b[0m\u001b[0m\n\u001b[0;32m     40\u001b[0m \u001b[1;33m\u001b[0m\u001b[0m\n",
      "\u001b[1;31mUnboundLocalError\u001b[0m: local variable 'letter1' referenced before assignment"
     ]
    }
   ],
   "source": [
    "import random, string\n",
    "\n",
    "vowels = 'aeiou'\n",
    "letter_input_1 = raw_input(\"What letter do you want? Enter 'v' for vowels, 'c' for consonants, '1' for any letter:\")\n",
    "letter_input_2 = raw_input(\"What letter do you want? Enter 'v' for vowels, 'c' for consonants, '1' for any letter:\")\n",
    "letter_input_3 = raw_input(\"What letter do you want? Enter 'v' for vowels, 'c' for consonants, '1' for any letter:\")\n",
    "\n",
    "#print(letter_input_1+letter_input_2+letter_input_3)\n",
    "\n",
    "def generator():\n",
    "    if letter_input_1 == 'v':\n",
    "        letter1 = random.choice(vowels)\n",
    "    elif letter_input_1 == 'c':\n",
    "        letter1 = random.choice(consonants)\n",
    "    elif letter_input_1 == 'l':\n",
    "        letter1 = random.choice(letter)\n",
    "    else:\n",
    "        letter2 = letter_input_1\n",
    "        \n",
    "    if letter_input_2 == 'v':\n",
    "        letter2 = random.choice(vowels)\n",
    "    elif letter_input_2 == 'c':\n",
    "        letter2 = random.choice(consonants)\n",
    "    elif letter_input_2 == 'l':\n",
    "        letter2 = random.choice(letter)\n",
    "    else:\n",
    "        letter2 = letter_input_2\n",
    "        \n",
    "    if letter_input_3 == 'v':\n",
    "        letter3 = random.choice(vowels)\n",
    "    elif letter_input_3 == 'c':\n",
    "        letter3 = random.choice(consonants)\n",
    "    elif letter_input_3 == 'l':\n",
    "        letter3 = random.choice(letter)\n",
    "    else:\n",
    "        letter3 = letter_input_3\n",
    "        \n",
    "    name = letter1 + letter2 + letter3\n",
    "    return (name)\n",
    "\n",
    "print(generator())"
   ]
  },
  {
   "cell_type": "code",
   "execution_count": null,
   "metadata": {
    "collapsed": true
   },
   "outputs": [],
   "source": []
  }
 ],
 "metadata": {
  "kernelspec": {
   "display_name": "Python 2",
   "language": "python",
   "name": "python2"
  },
  "language_info": {
   "codemirror_mode": {
    "name": "ipython",
    "version": 2
   },
   "file_extension": ".py",
   "mimetype": "text/x-python",
   "name": "python",
   "nbconvert_exporter": "python",
   "pygments_lexer": "ipython2",
   "version": "2.7.14"
  }
 },
 "nbformat": 4,
 "nbformat_minor": 2
}
